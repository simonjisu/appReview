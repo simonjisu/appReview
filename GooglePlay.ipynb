{
 "cells": [
  {
   "cell_type": "markdown",
   "id": "b9de40c4-ccd9-47a6-9b2d-23335a713600",
   "metadata": {},
   "source": [
    "# Google Play App Analysis\n",
    "\n",
    "1. Pick an application from Google Play store with at least 1,000 reviews.\n",
    "    - (ex) https://play.google.com/store/apps/details?id=com.teamviewer.pilot&hl=en_US&gl=US\n",
    "2. Crawl review data including USER, DATE, RATING, and TEXT.\n",
    "3. Tell us about pros and cons about the application based on users’ reviews.\n",
    "4. Run LDA topic modeling and try to find insights from modeling.\n",
    "5. Visualize your work."
   ]
  },
  {
   "cell_type": "markdown",
   "id": "8ddcaa3f-83c7-47a0-83f0-e1e45c0732a3",
   "metadata": {},
   "source": [
    "## Packages installation\n",
    "\n",
    "```\n",
    "pandas matplotlib seaborn\n",
    "```\n",
    "\n",
    "```\n",
    "pip install nltk spacy\n",
    "python -m spacy download en\n",
    "```"
   ]
  },
  {
   "cell_type": "markdown",
   "id": "9ebb8210-fa16-4abd-b898-c08d16a81dcf",
   "metadata": {},
   "source": [
    "## Data Collecting\n",
    "\n",
    "- Collected 25,000 reviews from [zoom application](https://play.google.com/store/apps/details?id=us.zoom.videomeetings&hl=en_US&gl=US)\n",
    "- Codes are in `./src/collector.py`"
   ]
  },
  {
   "cell_type": "markdown",
   "id": "9fc5932a-f910-4d94-9c5c-33d720f44f48",
   "metadata": {},
   "source": [
    "## Pros and Cons"
   ]
  },
  {
   "cell_type": "code",
   "execution_count": 25,
   "id": "9b7ab506-c7a2-44d4-94ea-ac70942e1800",
   "metadata": {},
   "outputs": [],
   "source": [
    "import pandas as pd\n",
    "from pathlib import Path\n",
    "import matplotlib.pyplot as plt\n",
    "import seaborn as sns"
   ]
  },
  {
   "cell_type": "code",
   "execution_count": 17,
   "id": "ffbb2875-6790-4a26-80d0-2dc1421606c1",
   "metadata": {},
   "outputs": [],
   "source": [
    "data_path = Path(\"./data\")\n",
    "df = pd.read_csv(data_path / \"reviews.tsv\", sep=\"\\t\", encoding=\"utf-8\")"
   ]
  },
  {
   "cell_type": "code",
   "execution_count": 37,
   "id": "d2330783-a8ba-46b2-ad31-e94d10a06835",
   "metadata": {},
   "outputs": [
    {
     "data": {
      "image/png": "[encoded data removed]",
      "text/plain": [
       "<Figure size 864x576 with 1 Axes>"
      ]
     },
     "metadata": {
      "needs_background": "light"
     },
     "output_type": "display_data"
    }
   ],
   "source": [
    "rate_size = df.pivot_table(index=\"rate\",aggfunc=\"size\")\n",
    "\n",
    "fig, ax = plt.subplots(1, 1, figsize=(12, 8))\n",
    "sns.countplot(x=\"rate\", data=df, ax=ax)\n",
    "ax.set_title(\"Rate Plot\")\n",
    "for i, rate in enumerate(rate_size, 1):\n",
    "    ax.text(i-1-0.1, rate+rate*0.01, s=f\"{rate}\")\n",
    "plt.show()"
   ]
  },
  {
   "cell_type": "code",
   "execution_count": 38,
   "id": "78cd02e5-81d9-439c-bcfd-63b13e384009",
   "metadata": {},
   "outputs": [],
   "source": [
    "import spacy"
   ]
  },
  {
   "cell_type": "code",
   "execution_count": 41,
   "id": "a85c3cb0-dfcf-40b1-b02d-da39f096c632",
   "metadata": {},
   "outputs": [],
   "source": [
    "nlp = spacy.load(\"en_core_web_sm\")"
   ]
  },
  {
   "cell_type": "code",
   "execution_count": 45,
   "id": "3b5476d3-26d5-4568-9892-da1a7b039dee",
   "metadata": {},
   "outputs": [],
   "source": [
    "doc = nlp(df[\"text\"].loc[0])"
   ]
  },
  {
   "cell_type": "code",
   "execution_count": 46,
   "id": "73f0f0d7-e9b0-4ccd-9044-4f0d382d4a42",
   "metadata": {},
   "outputs": [],
   "source": [
    "for tkn in doc:\n",
    "    break"
   ]
  },
  {
   "cell_type": "code",
   "execution_count": 49,
   "id": "b8d7bc71-c572-405b-a433-86ce85420fd8",
   "metadata": {},
   "outputs": [
    {
     "data": {
      "text/plain": [
       "'Zoom'"
      ]
     },
     "execution_count": 49,
     "metadata": {},
     "output_type": "execute_result"
    }
   ],
   "source": [
    "tkn.lemma_"
   ]
  },
  {
   "cell_type": "code",
   "execution_count": null,
   "id": "36089bdb-4d6e-4331-9420-59c856900a51",
   "metadata": {},
   "outputs": [],
   "source": []
  }
 ],
 "metadata": {
  "kernelspec": {
   "display_name": "Python 3",
   "language": "python",
   "name": "python3"
  },
  "language_info": {
   "codemirror_mode": {
    "name": "ipython",
    "version": 3
   },
   "file_extension": ".py",
   "mimetype": "text/x-python",
   "name": "python",
   "nbconvert_exporter": "python",
   "pygments_lexer": "ipython3",
   "version": "3.8.10"
  }
 },
 "nbformat": 4,
 "nbformat_minor": 5
}
