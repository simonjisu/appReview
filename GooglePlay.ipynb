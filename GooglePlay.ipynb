{
 "cells": [
  {
   "cell_type": "markdown",
   "id": "f705a6a9",
   "metadata": {},
   "source": [
    "# Google Play App Analysis\n",
    "\n",
    "1. Pick an application from Google Play store with at least 1,000 reviews.\n",
    "    - (ex) https://play.google.com/store/apps/details?id=com.teamviewer.pilot&hl=en_US&gl=US\n",
    "2. Crawl review data including USER, DATE, RATING, and TEXT.\n",
    "3. Tell us about pros and cons about the application based on users’ reviews.\n",
    "4. Run LDA topic modeling and try to find insights from modeling.\n",
    "5. Visualize your work."
   ]
  },
  {
   "cell_type": "markdown",
   "id": "e1bb6ff7",
   "metadata": {},
   "source": [
    "## Packages installation\n",
    "\n",
    "```\n",
    "pandas matplotlib seaborn\n",
    "```\n",
    "\n",
    "```\n",
    "pip install nltk spacy\n",
    "python -m spacy download en\n",
    "```"
   ]
  },
  {
   "cell_type": "markdown",
   "id": "5d2b24eb",
   "metadata": {},
   "source": [
    "## Data Collecting\n",
    "\n",
    "- Collected 25,000 reviews from [zoom application](https://play.google.com/store/apps/details?id=us.zoom.videomeetings&hl=en_US&gl=US)\n",
    "- Codes are in `./src/collector.py`"
   ]
  },
  {
   "cell_type": "markdown",
   "id": "a54c223a",
   "metadata": {},
   "source": [
    "## Pros and Cons"
   ]
  },
  {
   "cell_type": "code",
   "execution_count": 124,
   "id": "53463a9c",
   "metadata": {},
   "outputs": [],
   "source": [
    "import spacy\n",
    "from spacy import displacy\n",
    "\n",
    "import re\n",
    "import seaborn as sns\n",
    "import pandas as pd\n",
    "import matplotlib.pyplot as plt\n",
    "\n",
    "from tqdm.notebook import tqdm\n",
    "from pathlib import Path\n",
    "import pickle\n",
    "\n",
    "from gensim.models import TfidfModel, Word2Vec, FastText\n",
    "from gensim.corpora import Dictionary\n",
    "\n",
    "from typing import List, Tuple, Union"
   ]
  },
  {
   "cell_type": "code",
   "execution_count": 2,
   "id": "5e65078a",
   "metadata": {},
   "outputs": [],
   "source": [
    "data_path = Path(\"./data\")\n",
    "df = pd.read_csv(data_path / \"reviews.tsv\", sep=\"\\t\", encoding=\"utf-8\")"
   ]
  },
  {
   "cell_type": "code",
   "execution_count": 3,
   "id": "2a778cac",
   "metadata": {},
   "outputs": [
    {
     "data": {
      "image/png": "[encoded data removed]",
      "text/plain": [
       "<Figure size 864x576 with 1 Axes>"
      ]
     },
     "metadata": {
      "needs_background": "light"
     },
     "output_type": "display_data"
    }
   ],
   "source": [
    "rate_size = df.pivot_table(index=\"rate\",aggfunc=\"size\")\n",
    "\n",
    "fig, ax = plt.subplots(1, 1, figsize=(12, 8))\n",
    "sns.countplot(x=\"rate\", data=df, ax=ax)\n",
    "ax.set_title(\"Rate Plot\")\n",
    "for i, rate in enumerate(rate_size, 1):\n",
    "    ax.text(i-1-0.1, rate+rate*0.01, s=f\"{rate}\")\n",
    "plt.show()"
   ]
  },
  {
   "cell_type": "markdown",
   "id": "06f6d311",
   "metadata": {},
   "source": [
    "If we want to see the application's pros and cons, we need to know what people are thinking about this app. \n",
    "\n",
    "2 approaches\n",
    "\n",
    "1. sentimental analysis\n",
    "    - good or bad \n",
    "2. word2vec clustering\n",
    "    - what kind of words people are talking"
   ]
  },
  {
   "cell_type": "code",
   "execution_count": 27,
   "id": "c104290f",
   "metadata": {},
   "outputs": [],
   "source": [
    "# pipeline = [\"tokenizer\", \"tagger\", \"lemmatizer\", \"\"]\n",
    "spacy_nlp = spacy.load(\"en_core_web_sm\")"
   ]
  },
  {
   "cell_type": "code",
   "execution_count": 52,
   "id": "4e621c9b",
   "metadata": {},
   "outputs": [],
   "source": [
    "with (data_path / \"tkns.pickle\").open(\"wb\") as file:\n",
    "    pickle.dump(list(df[\"text\"].apply(spacy_nlp)), file)"
   ]
  },
  {
   "cell_type": "code",
   "execution_count": 55,
   "id": "b2a21edb",
   "metadata": {},
   "outputs": [],
   "source": [
    "with (data_path / \"tkns.pickle\").open(\"rb\") as file:\n",
    "    doc_data = pickle.load(file)"
   ]
  },
  {
   "cell_type": "code",
   "execution_count": 100,
   "id": "28feac67",
   "metadata": {},
   "outputs": [],
   "source": [
    "get_info = lambda x: (x.lower_, x.lemma_.lower(), x.pos_, x.tag_, x.is_stop)\n",
    "\n",
    "def preprocessing(txt: spacy.tokens.doc.Doc):\n",
    "    # tokenize & remove punctuations\n",
    "    # didn't used stop words, since words like 'but' is important to know how people think about app\n",
    "    tkns = [get_info(tkn) for tkn in txt if tkn.tag_ not in [\",\", \".\", \"PUNCT\"]]\n",
    "    return tkns"
   ]
  },
  {
   "cell_type": "code",
   "execution_count": 101,
   "id": "95b2d847",
   "metadata": {},
   "outputs": [
    {
     "data": {
      "application/vnd.jupyter.widget-view+json": {
       "model_id": "959464fe62e54b2db641e9760b93c1d0",
       "version_major": 2,
       "version_minor": 0
      },
      "text/plain": [
       "preprocessing:   0%|          | 0/25000 [00:00<?, ?it/s]"
      ]
     },
     "metadata": {},
     "output_type": "display_data"
    }
   ],
   "source": [
    "tkns = []\n",
    "for text in tqdm(doc_data, total=len(doc_data), desc=\"preprocessing\"):\n",
    "    tkns.append(preprocessing(text))"
   ]
  },
  {
   "cell_type": "code",
   "execution_count": 120,
   "id": "37f4d5b2",
   "metadata": {},
   "outputs": [],
   "source": [
    "def join_tkn_func(x: tuple, idx1: int, idx2: int):\n",
    "    \"\"\"\n",
    "    idx1: token(0) or lemma token(1)\n",
    "    idx2: pos(2) or tag(3)\n",
    "    \n",
    "    - pos: coarse-grained tags, https://universaldependencies.org/docs/u/pos/\n",
    "    - tag: fine-grained part-of-speech tags\n",
    "    \"\"\"\n",
    "    return f\"{x[idx1]}__{x[idx2]}\"\n",
    "\n",
    "def save2documents(tkns: List[Tuple[str]], sv_path: Union[str, Path], idx1: int, idx2: int):\n",
    "    \"\"\"\n",
    "    tkns: list of tuple tokens, (token, lemma, pos, tag, is_stop)\n",
    "    filename: save filename\n",
    "    idx1: token(0) or lemma token(1)\n",
    "    idx2: pos(2) or tag(3)\n",
    "    \n",
    "    - pos: coarse-grained tags, https://universaldependencies.org/docs/u/pos/\n",
    "    - tag: fine-grained part-of-speech tags\n",
    "    \"\"\"\n",
    "    sv_path = Path(sv_path)\n",
    "    filename = sv_path.name\n",
    "    with (data_path / filename).open(\"w\", encoding=\"utf-8\") as file:\n",
    "        for doc in tqdm(tkns, total=len(tkns), desc=f\"processing: {filename}\"):\n",
    "            print(\" \".join([join_tkn_func(tkn, idx1, idx2) for tkn in doc]), file=file)"
   ]
  },
  {
   "cell_type": "code",
   "execution_count": 121,
   "id": "a6e13f8c",
   "metadata": {},
   "outputs": [
    {
     "data": {
      "application/vnd.jupyter.widget-view+json": {
       "model_id": "bed90376f7d04879a84af8657bed91dc",
       "version_major": 2,
       "version_minor": 0
      },
      "text/plain": [
       "processing: token_pos.txt:   0%|          | 0/25000 [00:00<?, ?it/s]"
      ]
     },
     "metadata": {},
     "output_type": "display_data"
    },
    {
     "data": {
      "application/vnd.jupyter.widget-view+json": {
       "model_id": "c99ebb6d052b44f5a812182c98597b2d",
       "version_major": 2,
       "version_minor": 0
      },
      "text/plain": [
       "processing: token_tag.txt:   0%|          | 0/25000 [00:00<?, ?it/s]"
      ]
     },
     "metadata": {},
     "output_type": "display_data"
    },
    {
     "data": {
      "application/vnd.jupyter.widget-view+json": {
       "model_id": "be72f376945343b88b19b19c4a789d4f",
       "version_major": 2,
       "version_minor": 0
      },
      "text/plain": [
       "processing: lemma_pos.txt:   0%|          | 0/25000 [00:00<?, ?it/s]"
      ]
     },
     "metadata": {},
     "output_type": "display_data"
    },
    {
     "data": {
      "application/vnd.jupyter.widget-view+json": {
       "model_id": "2292d8cdfed8406cb2ead8df49b47f77",
       "version_major": 2,
       "version_minor": 0
      },
      "text/plain": [
       "processing: lemma_tag.txt:   0%|          | 0/25000 [00:00<?, ?it/s]"
      ]
     },
     "metadata": {},
     "output_type": "display_data"
    }
   ],
   "source": [
    "save2documents(tkns, \"./data/token_pos.txt\", 0, 2)\n",
    "save2documents(tkns, \"./data/token_tag.txt\", 0, 3)\n",
    "save2documents(tkns, \"./data/lemma_pos.txt\", 1, 2)\n",
    "save2documents(tkns, \"./data/lemma_tag.txt\", 1, 3)"
   ]
  },
  {
   "cell_type": "markdown",
   "id": "e22e960d",
   "metadata": {},
   "source": [
    "## Count Based\n",
    "\n",
    "what people are mostly talking about this app by rating"
   ]
  },
  {
   "cell_type": "code",
   "execution_count": 125,
   "id": "40eb9cae",
   "metadata": {},
   "outputs": [],
   "source": [
    "def load_data(path: Union[str, Path]):\n",
    "    path = Path(path)\n",
    "    with path.open(\"r\", encoding=\"utf-8\") as file:\n",
    "        data = [line.strip() for line in file.readlines()]"
   ]
  },
  {
   "cell_type": "code",
   "execution_count": null,
   "id": "7d96fc7a",
   "metadata": {},
   "outputs": [],
   "source": [
    "# token_pos\n",
    "Path()"
   ]
  },
  {
   "cell_type": "code",
   "execution_count": null,
   "id": "9da7fd75",
   "metadata": {},
   "outputs": [],
   "source": [
    "TfidfModel()"
   ]
  },
  {
   "cell_type": "markdown",
   "id": "aac8ca9d",
   "metadata": {},
   "source": [
    "## Vector Based"
   ]
  },
  {
   "cell_type": "code",
   "execution_count": null,
   "id": "15aeea8a",
   "metadata": {},
   "outputs": [],
   "source": [
    "from gensim.models import Word2Vec, FastText\n",
    "model = Word2Vec(sentences, size=300, window=5, min_count=1, workers=1)"
   ]
  }
 ],
 "metadata": {
  "kernelspec": {
   "display_name": "Python 3",
   "language": "python",
   "name": "python3"
  },
  "language_info": {
   "codemirror_mode": {
    "name": "ipython",
    "version": 3
   },
   "file_extension": ".py",
   "mimetype": "text/x-python",
   "name": "python",
   "nbconvert_exporter": "python",
   "pygments_lexer": "ipython3",
   "version": "3.7.10"
  }
 },
 "nbformat": 4,
 "nbformat_minor": 5
}
